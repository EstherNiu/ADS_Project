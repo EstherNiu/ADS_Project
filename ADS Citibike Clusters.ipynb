{
 "cells": [
  {
   "cell_type": "code",
   "execution_count": 27,
   "metadata": {
    "collapsed": false
   },
   "outputs": [
    {
     "name": "stdout",
     "output_type": "stream",
     "text": [
      "Populating the interactive namespace from numpy and matplotlib\n"
     ]
    }
   ],
   "source": [
    "import numpy as np\n",
    "import pandas as pd\n",
    "import pylab as pl\n",
    "import matplotlib.pyplot as plt\n",
    "%pylab inline"
   ]
  },
  {
   "cell_type": "code",
   "execution_count": 2,
   "metadata": {
    "collapsed": false
   },
   "outputs": [
    {
     "data": {
      "text/html": [
       "<div>\n",
       "<table border=\"1\" class=\"dataframe\">\n",
       "  <thead>\n",
       "    <tr style=\"text-align: right;\">\n",
       "      <th></th>\n",
       "      <th>level_0</th>\n",
       "      <th>index</th>\n",
       "      <th>tripduration</th>\n",
       "      <th>starttime</th>\n",
       "      <th>stoptime</th>\n",
       "      <th>start station id</th>\n",
       "      <th>start station name</th>\n",
       "      <th>start station latitude</th>\n",
       "      <th>start station longitude</th>\n",
       "      <th>end station id</th>\n",
       "      <th>...</th>\n",
       "      <th>gender</th>\n",
       "      <th>StDate</th>\n",
       "      <th>StTime</th>\n",
       "      <th>EndDt</th>\n",
       "      <th>EndTime</th>\n",
       "      <th>Mnth</th>\n",
       "      <th>Yr</th>\n",
       "      <th>DayInd</th>\n",
       "      <th>WkDay</th>\n",
       "      <th>WkDayInd</th>\n",
       "    </tr>\n",
       "  </thead>\n",
       "  <tbody>\n",
       "    <tr>\n",
       "      <th>0</th>\n",
       "      <td>0</td>\n",
       "      <td>0.0</td>\n",
       "      <td>923.0</td>\n",
       "      <td>1/1/2016 00:00:41</td>\n",
       "      <td>1/1/2016 00:16:04</td>\n",
       "      <td>268.0</td>\n",
       "      <td>Howard St &amp; Centre St</td>\n",
       "      <td>40.719105</td>\n",
       "      <td>-73.999733</td>\n",
       "      <td>3002.0</td>\n",
       "      <td>...</td>\n",
       "      <td>1.0</td>\n",
       "      <td>2016-01-01</td>\n",
       "      <td>00:00:41</td>\n",
       "      <td>2016-01-01</td>\n",
       "      <td>00:16:04</td>\n",
       "      <td>1</td>\n",
       "      <td>2016</td>\n",
       "      <td>0</td>\n",
       "      <td>4</td>\n",
       "      <td>1</td>\n",
       "    </tr>\n",
       "    <tr>\n",
       "      <th>1</th>\n",
       "      <td>1</td>\n",
       "      <td>1.0</td>\n",
       "      <td>379.0</td>\n",
       "      <td>1/1/2016 00:00:45</td>\n",
       "      <td>1/1/2016 00:07:04</td>\n",
       "      <td>476.0</td>\n",
       "      <td>E 31 St &amp; 3 Ave</td>\n",
       "      <td>40.743943</td>\n",
       "      <td>-73.979661</td>\n",
       "      <td>498.0</td>\n",
       "      <td>...</td>\n",
       "      <td>1.0</td>\n",
       "      <td>2016-01-01</td>\n",
       "      <td>00:00:45</td>\n",
       "      <td>2016-01-01</td>\n",
       "      <td>00:07:04</td>\n",
       "      <td>1</td>\n",
       "      <td>2016</td>\n",
       "      <td>0</td>\n",
       "      <td>4</td>\n",
       "      <td>1</td>\n",
       "    </tr>\n",
       "    <tr>\n",
       "      <th>2</th>\n",
       "      <td>2</td>\n",
       "      <td>2.0</td>\n",
       "      <td>589.0</td>\n",
       "      <td>1/1/2016 00:00:48</td>\n",
       "      <td>1/1/2016 00:10:37</td>\n",
       "      <td>489.0</td>\n",
       "      <td>10 Ave &amp; W 28 St</td>\n",
       "      <td>40.750664</td>\n",
       "      <td>-74.001768</td>\n",
       "      <td>284.0</td>\n",
       "      <td>...</td>\n",
       "      <td>2.0</td>\n",
       "      <td>2016-01-01</td>\n",
       "      <td>00:00:48</td>\n",
       "      <td>2016-01-01</td>\n",
       "      <td>00:10:37</td>\n",
       "      <td>1</td>\n",
       "      <td>2016</td>\n",
       "      <td>0</td>\n",
       "      <td>4</td>\n",
       "      <td>1</td>\n",
       "    </tr>\n",
       "    <tr>\n",
       "      <th>3</th>\n",
       "      <td>3</td>\n",
       "      <td>3.0</td>\n",
       "      <td>889.0</td>\n",
       "      <td>1/1/2016 00:01:06</td>\n",
       "      <td>1/1/2016 00:15:56</td>\n",
       "      <td>268.0</td>\n",
       "      <td>Howard St &amp; Centre St</td>\n",
       "      <td>40.719105</td>\n",
       "      <td>-73.999733</td>\n",
       "      <td>3002.0</td>\n",
       "      <td>...</td>\n",
       "      <td>2.0</td>\n",
       "      <td>2016-01-01</td>\n",
       "      <td>00:01:06</td>\n",
       "      <td>2016-01-01</td>\n",
       "      <td>00:15:56</td>\n",
       "      <td>1</td>\n",
       "      <td>2016</td>\n",
       "      <td>0</td>\n",
       "      <td>4</td>\n",
       "      <td>1</td>\n",
       "    </tr>\n",
       "    <tr>\n",
       "      <th>4</th>\n",
       "      <td>4</td>\n",
       "      <td>4.0</td>\n",
       "      <td>1480.0</td>\n",
       "      <td>1/1/2016 00:01:12</td>\n",
       "      <td>1/1/2016 00:25:52</td>\n",
       "      <td>2006.0</td>\n",
       "      <td>Central Park S &amp; 6 Ave</td>\n",
       "      <td>40.765909</td>\n",
       "      <td>-73.976342</td>\n",
       "      <td>2006.0</td>\n",
       "      <td>...</td>\n",
       "      <td>1.0</td>\n",
       "      <td>2016-01-01</td>\n",
       "      <td>00:01:12</td>\n",
       "      <td>2016-01-01</td>\n",
       "      <td>00:25:52</td>\n",
       "      <td>1</td>\n",
       "      <td>2016</td>\n",
       "      <td>0</td>\n",
       "      <td>4</td>\n",
       "      <td>1</td>\n",
       "    </tr>\n",
       "  </tbody>\n",
       "</table>\n",
       "<p>5 rows × 26 columns</p>\n",
       "</div>"
      ],
      "text/plain": [
       "   level_0  index  tripduration          starttime           stoptime  \\\n",
       "0        0    0.0         923.0  1/1/2016 00:00:41  1/1/2016 00:16:04   \n",
       "1        1    1.0         379.0  1/1/2016 00:00:45  1/1/2016 00:07:04   \n",
       "2        2    2.0         589.0  1/1/2016 00:00:48  1/1/2016 00:10:37   \n",
       "3        3    3.0         889.0  1/1/2016 00:01:06  1/1/2016 00:15:56   \n",
       "4        4    4.0        1480.0  1/1/2016 00:01:12  1/1/2016 00:25:52   \n",
       "\n",
       "   start station id      start station name  start station latitude  \\\n",
       "0             268.0   Howard St & Centre St               40.719105   \n",
       "1             476.0         E 31 St & 3 Ave               40.743943   \n",
       "2             489.0        10 Ave & W 28 St               40.750664   \n",
       "3             268.0   Howard St & Centre St               40.719105   \n",
       "4            2006.0  Central Park S & 6 Ave               40.765909   \n",
       "\n",
       "   start station longitude  end station id   ...    gender      StDate  \\\n",
       "0               -73.999733          3002.0   ...       1.0  2016-01-01   \n",
       "1               -73.979661           498.0   ...       1.0  2016-01-01   \n",
       "2               -74.001768           284.0   ...       2.0  2016-01-01   \n",
       "3               -73.999733          3002.0   ...       2.0  2016-01-01   \n",
       "4               -73.976342          2006.0   ...       1.0  2016-01-01   \n",
       "\n",
       "     StTime       EndDt   EndTime  Mnth    Yr DayInd WkDay WkDayInd  \n",
       "0  00:00:41  2016-01-01  00:16:04     1  2016      0     4        1  \n",
       "1  00:00:45  2016-01-01  00:07:04     1  2016      0     4        1  \n",
       "2  00:00:48  2016-01-01  00:10:37     1  2016      0     4        1  \n",
       "3  00:01:06  2016-01-01  00:15:56     1  2016      0     4        1  \n",
       "4  00:01:12  2016-01-01  00:25:52     1  2016      0     4        1  \n",
       "\n",
       "[5 rows x 26 columns]"
      ]
     },
     "execution_count": 2,
     "metadata": {},
     "output_type": "execute_result"
    }
   ],
   "source": [
    "# Interim output saved.\n",
    "df1 = pd.read_csv('./data/201601-CBike-v2.csv')\n",
    "df1.head()"
   ]
  },
  {
   "cell_type": "code",
   "execution_count": 2,
   "metadata": {
    "collapsed": false
   },
   "outputs": [
    {
     "data": {
      "text/html": [
       "<div>\n",
       "<table border=\"1\" class=\"dataframe\">\n",
       "  <thead>\n",
       "    <tr style=\"text-align: right;\">\n",
       "      <th></th>\n",
       "      <th>tripduration</th>\n",
       "      <th>starttime</th>\n",
       "      <th>stoptime</th>\n",
       "      <th>start station id</th>\n",
       "      <th>start station name</th>\n",
       "      <th>start station latitude</th>\n",
       "      <th>start station longitude</th>\n",
       "      <th>end station id</th>\n",
       "      <th>end station name</th>\n",
       "      <th>end station latitude</th>\n",
       "      <th>end station longitude</th>\n",
       "      <th>bikeid</th>\n",
       "      <th>usertype</th>\n",
       "      <th>birth year</th>\n",
       "      <th>gender</th>\n",
       "    </tr>\n",
       "  </thead>\n",
       "  <tbody>\n",
       "    <tr>\n",
       "      <th>0</th>\n",
       "      <td>923</td>\n",
       "      <td>1/1/2016 00:00:41</td>\n",
       "      <td>1/1/2016 00:16:04</td>\n",
       "      <td>268</td>\n",
       "      <td>Howard St &amp; Centre St</td>\n",
       "      <td>40.719105</td>\n",
       "      <td>-73.999733</td>\n",
       "      <td>3002</td>\n",
       "      <td>South End Ave &amp; Liberty St</td>\n",
       "      <td>40.711512</td>\n",
       "      <td>-74.015756</td>\n",
       "      <td>22285</td>\n",
       "      <td>Subscriber</td>\n",
       "      <td>1958.0</td>\n",
       "      <td>1</td>\n",
       "    </tr>\n",
       "    <tr>\n",
       "      <th>1</th>\n",
       "      <td>379</td>\n",
       "      <td>1/1/2016 00:00:45</td>\n",
       "      <td>1/1/2016 00:07:04</td>\n",
       "      <td>476</td>\n",
       "      <td>E 31 St &amp; 3 Ave</td>\n",
       "      <td>40.743943</td>\n",
       "      <td>-73.979661</td>\n",
       "      <td>498</td>\n",
       "      <td>Broadway &amp; W 32 St</td>\n",
       "      <td>40.748549</td>\n",
       "      <td>-73.988084</td>\n",
       "      <td>17827</td>\n",
       "      <td>Subscriber</td>\n",
       "      <td>1969.0</td>\n",
       "      <td>1</td>\n",
       "    </tr>\n",
       "    <tr>\n",
       "      <th>2</th>\n",
       "      <td>589</td>\n",
       "      <td>1/1/2016 00:00:48</td>\n",
       "      <td>1/1/2016 00:10:37</td>\n",
       "      <td>489</td>\n",
       "      <td>10 Ave &amp; W 28 St</td>\n",
       "      <td>40.750664</td>\n",
       "      <td>-74.001768</td>\n",
       "      <td>284</td>\n",
       "      <td>Greenwich Ave &amp; 8 Ave</td>\n",
       "      <td>40.739017</td>\n",
       "      <td>-74.002638</td>\n",
       "      <td>21997</td>\n",
       "      <td>Subscriber</td>\n",
       "      <td>1982.0</td>\n",
       "      <td>2</td>\n",
       "    </tr>\n",
       "    <tr>\n",
       "      <th>3</th>\n",
       "      <td>889</td>\n",
       "      <td>1/1/2016 00:01:06</td>\n",
       "      <td>1/1/2016 00:15:56</td>\n",
       "      <td>268</td>\n",
       "      <td>Howard St &amp; Centre St</td>\n",
       "      <td>40.719105</td>\n",
       "      <td>-73.999733</td>\n",
       "      <td>3002</td>\n",
       "      <td>South End Ave &amp; Liberty St</td>\n",
       "      <td>40.711512</td>\n",
       "      <td>-74.015756</td>\n",
       "      <td>22794</td>\n",
       "      <td>Subscriber</td>\n",
       "      <td>1961.0</td>\n",
       "      <td>2</td>\n",
       "    </tr>\n",
       "    <tr>\n",
       "      <th>4</th>\n",
       "      <td>1480</td>\n",
       "      <td>1/1/2016 00:01:12</td>\n",
       "      <td>1/1/2016 00:25:52</td>\n",
       "      <td>2006</td>\n",
       "      <td>Central Park S &amp; 6 Ave</td>\n",
       "      <td>40.765909</td>\n",
       "      <td>-73.976342</td>\n",
       "      <td>2006</td>\n",
       "      <td>Central Park S &amp; 6 Ave</td>\n",
       "      <td>40.765909</td>\n",
       "      <td>-73.976342</td>\n",
       "      <td>14562</td>\n",
       "      <td>Subscriber</td>\n",
       "      <td>1952.0</td>\n",
       "      <td>1</td>\n",
       "    </tr>\n",
       "  </tbody>\n",
       "</table>\n",
       "</div>"
      ],
      "text/plain": [
       "   tripduration          starttime           stoptime  start station id  \\\n",
       "0           923  1/1/2016 00:00:41  1/1/2016 00:16:04               268   \n",
       "1           379  1/1/2016 00:00:45  1/1/2016 00:07:04               476   \n",
       "2           589  1/1/2016 00:00:48  1/1/2016 00:10:37               489   \n",
       "3           889  1/1/2016 00:01:06  1/1/2016 00:15:56               268   \n",
       "4          1480  1/1/2016 00:01:12  1/1/2016 00:25:52              2006   \n",
       "\n",
       "       start station name  start station latitude  start station longitude  \\\n",
       "0   Howard St & Centre St               40.719105               -73.999733   \n",
       "1         E 31 St & 3 Ave               40.743943               -73.979661   \n",
       "2        10 Ave & W 28 St               40.750664               -74.001768   \n",
       "3   Howard St & Centre St               40.719105               -73.999733   \n",
       "4  Central Park S & 6 Ave               40.765909               -73.976342   \n",
       "\n",
       "   end station id            end station name  end station latitude  \\\n",
       "0            3002  South End Ave & Liberty St             40.711512   \n",
       "1             498          Broadway & W 32 St             40.748549   \n",
       "2             284       Greenwich Ave & 8 Ave             40.739017   \n",
       "3            3002  South End Ave & Liberty St             40.711512   \n",
       "4            2006      Central Park S & 6 Ave             40.765909   \n",
       "\n",
       "   end station longitude  bikeid    usertype  birth year  gender  \n",
       "0             -74.015756   22285  Subscriber      1958.0       1  \n",
       "1             -73.988084   17827  Subscriber      1969.0       1  \n",
       "2             -74.002638   21997  Subscriber      1982.0       2  \n",
       "3             -74.015756   22794  Subscriber      1961.0       2  \n",
       "4             -73.976342   14562  Subscriber      1952.0       1  "
      ]
     },
     "execution_count": 2,
     "metadata": {},
     "output_type": "execute_result"
    }
   ],
   "source": [
    "df = pd.read_csv('./data/201601-citibike-tripdata.csv')\n",
    "df.head()"
   ]
  },
  {
   "cell_type": "code",
   "execution_count": 113,
   "metadata": {
    "collapsed": false
   },
   "outputs": [
    {
     "data": {
      "text/plain": [
       "(509478, 15)"
      ]
     },
     "execution_count": 113,
     "metadata": {},
     "output_type": "execute_result"
    }
   ],
   "source": [
    "df.shape"
   ]
  },
  {
   "cell_type": "code",
   "execution_count": 3,
   "metadata": {
    "collapsed": true
   },
   "outputs": [],
   "source": [
    "# df1 = df[0:1000].copy()\n",
    "df1 = df.copy()"
   ]
  },
  {
   "cell_type": "code",
   "execution_count": 194,
   "metadata": {
    "collapsed": false
   },
   "outputs": [
    {
     "data": {
      "text/html": [
       "<div>\n",
       "<table border=\"1\" class=\"dataframe\">\n",
       "  <thead>\n",
       "    <tr style=\"text-align: right;\">\n",
       "      <th></th>\n",
       "      <th>level_0</th>\n",
       "      <th>index</th>\n",
       "      <th>tripduration</th>\n",
       "      <th>starttime</th>\n",
       "      <th>stoptime</th>\n",
       "      <th>start station id</th>\n",
       "      <th>start station name</th>\n",
       "      <th>start station latitude</th>\n",
       "      <th>start station longitude</th>\n",
       "      <th>end station id</th>\n",
       "      <th>...</th>\n",
       "      <th>StDate</th>\n",
       "      <th>StTime</th>\n",
       "      <th>EndDt</th>\n",
       "      <th>EndTime</th>\n",
       "      <th>Mnth</th>\n",
       "      <th>Yr</th>\n",
       "      <th>DayInd</th>\n",
       "      <th>WkDay</th>\n",
       "      <th>WkDayInd</th>\n",
       "      <th>dayInd</th>\n",
       "    </tr>\n",
       "  </thead>\n",
       "  <tbody>\n",
       "    <tr>\n",
       "      <th>0</th>\n",
       "      <td>0.0</td>\n",
       "      <td>0.0</td>\n",
       "      <td>923.0</td>\n",
       "      <td>1/1/2016 00:00:41</td>\n",
       "      <td>1/1/2016 00:16:04</td>\n",
       "      <td>268.0</td>\n",
       "      <td>Howard St &amp; Centre St</td>\n",
       "      <td>40.719105</td>\n",
       "      <td>-73.999733</td>\n",
       "      <td>3002.0</td>\n",
       "      <td>...</td>\n",
       "      <td>2016-01-01</td>\n",
       "      <td>00:00:41</td>\n",
       "      <td>2016-01-01</td>\n",
       "      <td>00:16:04</td>\n",
       "      <td>1.0</td>\n",
       "      <td>2016.0</td>\n",
       "      <td></td>\n",
       "      <td>4.0</td>\n",
       "      <td>1.0</td>\n",
       "      <td></td>\n",
       "    </tr>\n",
       "    <tr>\n",
       "      <th>1</th>\n",
       "      <td>1.0</td>\n",
       "      <td>1.0</td>\n",
       "      <td>379.0</td>\n",
       "      <td>1/1/2016 00:00:45</td>\n",
       "      <td>1/1/2016 00:07:04</td>\n",
       "      <td>476.0</td>\n",
       "      <td>E 31 St &amp; 3 Ave</td>\n",
       "      <td>40.743943</td>\n",
       "      <td>-73.979661</td>\n",
       "      <td>498.0</td>\n",
       "      <td>...</td>\n",
       "      <td>2016-01-01</td>\n",
       "      <td>00:00:45</td>\n",
       "      <td>2016-01-01</td>\n",
       "      <td>00:07:04</td>\n",
       "      <td>1.0</td>\n",
       "      <td>2016.0</td>\n",
       "      <td></td>\n",
       "      <td>4.0</td>\n",
       "      <td>1.0</td>\n",
       "      <td></td>\n",
       "    </tr>\n",
       "    <tr>\n",
       "      <th>2</th>\n",
       "      <td>2.0</td>\n",
       "      <td>2.0</td>\n",
       "      <td>589.0</td>\n",
       "      <td>1/1/2016 00:00:48</td>\n",
       "      <td>1/1/2016 00:10:37</td>\n",
       "      <td>489.0</td>\n",
       "      <td>10 Ave &amp; W 28 St</td>\n",
       "      <td>40.750664</td>\n",
       "      <td>-74.001768</td>\n",
       "      <td>284.0</td>\n",
       "      <td>...</td>\n",
       "      <td>2016-01-01</td>\n",
       "      <td>00:00:48</td>\n",
       "      <td>2016-01-01</td>\n",
       "      <td>00:10:37</td>\n",
       "      <td>1.0</td>\n",
       "      <td>2016.0</td>\n",
       "      <td></td>\n",
       "      <td>4.0</td>\n",
       "      <td>1.0</td>\n",
       "      <td></td>\n",
       "    </tr>\n",
       "  </tbody>\n",
       "</table>\n",
       "<p>3 rows × 27 columns</p>\n",
       "</div>"
      ],
      "text/plain": [
       "   level_0  index  tripduration          starttime           stoptime  \\\n",
       "0      0.0    0.0         923.0  1/1/2016 00:00:41  1/1/2016 00:16:04   \n",
       "1      1.0    1.0         379.0  1/1/2016 00:00:45  1/1/2016 00:07:04   \n",
       "2      2.0    2.0         589.0  1/1/2016 00:00:48  1/1/2016 00:10:37   \n",
       "\n",
       "   start station id     start station name  start station latitude  \\\n",
       "0             268.0  Howard St & Centre St               40.719105   \n",
       "1             476.0        E 31 St & 3 Ave               40.743943   \n",
       "2             489.0       10 Ave & W 28 St               40.750664   \n",
       "\n",
       "   start station longitude  end station id  ...       StDate    StTime  \\\n",
       "0               -73.999733          3002.0  ...   2016-01-01  00:00:41   \n",
       "1               -73.979661           498.0  ...   2016-01-01  00:00:45   \n",
       "2               -74.001768           284.0  ...   2016-01-01  00:00:48   \n",
       "\n",
       "       EndDt   EndTime Mnth      Yr  DayInd WkDay WkDayInd dayInd  \n",
       "0 2016-01-01  00:16:04  1.0  2016.0           4.0      1.0         \n",
       "1 2016-01-01  00:07:04  1.0  2016.0           4.0      1.0         \n",
       "2 2016-01-01  00:10:37  1.0  2016.0           4.0      1.0         \n",
       "\n",
       "[3 rows x 27 columns]"
      ]
     },
     "execution_count": 194,
     "metadata": {},
     "output_type": "execute_result"
    }
   ],
   "source": [
    "df1.head(3)"
   ]
  },
  {
   "cell_type": "code",
   "execution_count": 4,
   "metadata": {
    "collapsed": false,
    "scrolled": true
   },
   "outputs": [],
   "source": [
    "df1['StDate'] = ''\n",
    "df1['StTime'] = ''\n",
    "df1['EndDt'] = ''\n",
    "df1['EndTime'] = ''\n",
    "df1['Mnth'] = ''\n",
    "df1['Yr'] = ''\n",
    "df1['DayInd'] = ''\n",
    "df1['WkDay'] = ''\n",
    "df1['WkDayInd'] = ''\n",
    "df1['dayInd'] = ''\n"
   ]
  },
  {
   "cell_type": "code",
   "execution_count": 101,
   "metadata": {
    "collapsed": true
   },
   "outputs": [],
   "source": [
    "# df1.rename(columns={'mnth': 'Mnth'}, inplace=True)"
   ]
  },
  {
   "cell_type": "code",
   "execution_count": 195,
   "metadata": {
    "collapsed": false
   },
   "outputs": [
    {
     "data": {
      "text/plain": [
       "['level_0',\n",
       " 'index',\n",
       " 'tripduration',\n",
       " 'starttime',\n",
       " 'stoptime',\n",
       " 'start station id',\n",
       " 'start station name',\n",
       " 'start station latitude',\n",
       " 'start station longitude',\n",
       " 'end station id',\n",
       " 'end station name',\n",
       " 'end station latitude',\n",
       " 'end station longitude',\n",
       " 'bikeid',\n",
       " 'usertype',\n",
       " 'birth year',\n",
       " 'gender',\n",
       " 'StDate',\n",
       " 'StTime',\n",
       " 'EndDt',\n",
       " 'EndTime',\n",
       " 'Mnth',\n",
       " 'Yr',\n",
       " 'DayInd',\n",
       " 'WkDay',\n",
       " 'WkDayInd',\n",
       " 'dayInd']"
      ]
     },
     "execution_count": 195,
     "metadata": {},
     "output_type": "execute_result"
    }
   ],
   "source": [
    "list(df1.columns)"
   ]
  },
  {
   "cell_type": "code",
   "execution_count": 125,
   "metadata": {
    "collapsed": false
   },
   "outputs": [
    {
     "data": {
      "text/html": [
       "<div>\n",
       "<table border=\"1\" class=\"dataframe\">\n",
       "  <thead>\n",
       "    <tr style=\"text-align: right;\">\n",
       "      <th></th>\n",
       "      <th>tripduration</th>\n",
       "    </tr>\n",
       "  </thead>\n",
       "  <tbody>\n",
       "    <tr>\n",
       "      <th>0</th>\n",
       "      <td>923</td>\n",
       "    </tr>\n",
       "  </tbody>\n",
       "</table>\n",
       "</div>"
      ],
      "text/plain": [
       "   tripduration\n",
       "0           923"
      ]
     },
     "execution_count": 125,
     "metadata": {},
     "output_type": "execute_result"
    }
   ],
   "source": [
    "df1[:1][['tripduration']]"
   ]
  },
  {
   "cell_type": "code",
   "execution_count": 187,
   "metadata": {
    "collapsed": false
   },
   "outputs": [
    {
     "data": {
      "text/html": [
       "<div>\n",
       "<table border=\"1\" class=\"dataframe\">\n",
       "  <thead>\n",
       "    <tr style=\"text-align: right;\">\n",
       "      <th></th>\n",
       "      <th>StDate</th>\n",
       "    </tr>\n",
       "  </thead>\n",
       "  <tbody>\n",
       "    <tr>\n",
       "      <th>0</th>\n",
       "      <td>2016-01-01</td>\n",
       "    </tr>\n",
       "  </tbody>\n",
       "</table>\n",
       "</div>"
      ],
      "text/plain": [
       "      StDate\n",
       "0 2016-01-01"
      ]
     },
     "execution_count": 187,
     "metadata": {},
     "output_type": "execute_result"
    }
   ],
   "source": [
    "# print df1.starttime[0].split(' ')[0]\n",
    "df1[:1][['StDate']]"
   ]
  },
  {
   "cell_type": "code",
   "execution_count": 129,
   "metadata": {
    "collapsed": false
   },
   "outputs": [
    {
     "data": {
      "text/plain": [
       "['1/1/2016', '00:00:41']"
      ]
     },
     "execution_count": 129,
     "metadata": {},
     "output_type": "execute_result"
    }
   ],
   "source": [
    "df1.starttime[0].split(' ')"
   ]
  },
  {
   "cell_type": "code",
   "execution_count": 82,
   "metadata": {
    "collapsed": false
   },
   "outputs": [
    {
     "name": "stdout",
     "output_type": "stream",
     "text": [
      "['16', '00', '41']\n",
      "[16, 0, 41]\n"
     ]
    },
    {
     "data": {
      "text/plain": [
       "1"
      ]
     },
     "execution_count": 82,
     "metadata": {},
     "output_type": "execute_result"
    }
   ],
   "source": [
    "    \n",
    "# st_spl = df1.starttime[0].split(' ')\n",
    "\n",
    "# # df1[0:1][['stdate']] = st_spl[0]\n",
    "# df1.set_value(0, 'stdate', st_spl[0])\n",
    "# stt_list = df1.sttime[0].split(':')\n",
    "\n",
    "stt_list = '16:00:41'.split(':')\n",
    "print stt_list\n",
    "\n",
    "print stt_list\n",
    "\n",
    "stt_list = [int(i) for i in stt_list]\n",
    "if (stt_list[0] in range(5,17)):\n",
    "        day_ind = 1\n",
    "else:\n",
    "        day_ind = 0\n",
    "    \n",
    "\n",
    "day_ind\n",
    "\n"
   ]
  },
  {
   "cell_type": "code",
   "execution_count": 100,
   "metadata": {
    "collapsed": true
   },
   "outputs": [],
   "source": []
  },
  {
   "cell_type": "code",
   "execution_count": 96,
   "metadata": {
    "collapsed": false
   },
   "outputs": [],
   "source": [
    "# df1['WkDayInd'] = df1['starttime'].dt.dayofweek\n",
    "\n",
    "# days = {0:'Mon',1:'Tues',2:'Weds',3:'Thurs',4:'Fri',5:'Sat',6:'Sun'}\n",
    "# df['day_of_week'] = df['day_of_week'].apply(lambda x: days[x])\n",
    "\n",
    "months = {1:'Jan',2:'Feb',3:'Mar',4:'Apr',5:'May',6:'Jun',7:'Jul',8:'Aug',9:'Sep',10:'Oct',11:'Nov',12:'Dec'}\n",
    "df1['Mnth'] = df1['Mnth'].apply(lambda x: months[x])"
   ]
  },
  {
   "cell_type": "code",
   "execution_count": 7,
   "metadata": {
    "collapsed": false
   },
   "outputs": [
    {
     "name": "stdout",
     "output_type": "stream",
     "text": [
      "No\n"
     ]
    }
   ],
   "source": [
    "a = [4,0,43]\n",
    "if a[1] in range(3,33):\n",
    "    print 'Yes'\n",
    "else:\n",
    "    print 'No'"
   ]
  },
  {
   "cell_type": "code",
   "execution_count": 27,
   "metadata": {
    "collapsed": false,
    "scrolled": false
   },
   "outputs": [
    {
     "name": "stdout",
     "output_type": "stream",
     "text": [
      "\n"
     ]
    }
   ],
   "source": [
    "# Data Wrangling -\n",
    "\n",
    "df1.dropna(inplace=True)\n",
    "df1.reset_index(drop=True, inplace=True)\n",
    "\n",
    "# df1.shape[0]\n",
    "\n",
    "for i in range(df1.shape[0]):\n",
    "    st_spl = df1.starttime[i].split(' ')\n",
    "    df1.set_value(i, 'StDate', st_spl[0])\n",
    "    df1.set_value(i, 'StTime', st_spl[1])\n",
    "    \n",
    "    stop_spl = df1.stoptime[i].split(' ')\n",
    "    df1.set_value(i, 'EndDt', stop_spl[0])\n",
    "    df1.set_value(i, 'EndTime', stop_spl[1])\n",
    "\n",
    "    # Day Indicator from Start time\n",
    "    stt_list = df1.StTime[i].split(':')\n",
    "    stt_list = [int(j) for j in stt_list]\n",
    "    if (stt_list[0] in range(5,17)):\n",
    "        # Day - Yes\n",
    "        day_ind = 1\n",
    "    else:\n",
    "        # Night - Yes\n",
    "        day_ind = 0\n",
    "    df1.set_value(i, 'DayInd', int(day_ind))"
   ]
  },
  {
   "cell_type": "code",
   "execution_count": 196,
   "metadata": {
    "collapsed": false
   },
   "outputs": [
    {
     "name": "stdout",
     "output_type": "stream",
     "text": [
      "0\n",
      "B\n",
      "\n"
     ]
    },
    {
     "name": "stderr",
     "output_type": "stream",
     "text": [
      "/anaconda/lib/python2.7/site-packages/ipykernel/__main__.py:13: SettingWithCopyWarning: \n",
      "A value is trying to be set on a copy of a slice from a DataFrame\n",
      "\n",
      "See the caveats in the documentation: http://pandas.pydata.org/pandas-docs/stable/indexing.html#indexing-view-versus-copy\n"
     ]
    }
   ],
   "source": [
    "for i in range(1):\n",
    "    st_spl = df1.starttime[i].split(' ')\n",
    "    stop_spl = df1.stoptime[i].split(' ')\n",
    "\n",
    "    # Day Indicator from Start time\n",
    "    stt_list = df1.StTime[i].split(':')\n",
    "    stt_list = [int(i) for i in stt_list]\n",
    "    print stt_list[0]\n",
    "    \n",
    "    if (stt_list[0] in range(5,17)):\n",
    "        # Day - Yes\n",
    "        day_ind = 1.0\n",
    "    else:\n",
    "        # Night - Yes\n",
    "        day_ind = 0.0\n",
    "\n",
    "    df1.set_value(i, 'DayInd', int(day_ind))\n",
    "                "
   ]
  },
  {
   "cell_type": "code",
   "execution_count": 28,
   "metadata": {
    "collapsed": false
   },
   "outputs": [],
   "source": [
    "df1.dropna(inplace=True)\n",
    "df1.reset_index(drop=False, inplace=True)"
   ]
  },
  {
   "cell_type": "code",
   "execution_count": 29,
   "metadata": {
    "collapsed": false
   },
   "outputs": [],
   "source": [
    "\n",
    "df1['StDate'] = pd.to_datetime(df1['StDate'])\n",
    "df1['EndDt'] = pd.to_datetime(df1['EndDt'])\n",
    "\n",
    "df1['WkDay'] = df1['StDate'].dt.dayofweek\n",
    "df1['Mnth'] = df1['StDate'].dt.month\n",
    "df1['Yr'] = df1['StDate'].dt.year\n",
    "\n",
    "# Weekday Indicator definition\n",
    "wk_ind = {0:1,1:1,2:1,3:1,4:1, 5:0,6:0}\n",
    "df1['WkDayInd'] = df1['WkDay'].apply(lambda x: wk_ind[x])\n",
    "\n"
   ]
  },
  {
   "cell_type": "code",
   "execution_count": 153,
   "metadata": {
    "collapsed": false
   },
   "outputs": [],
   "source": [
    "# df1.reset_index(drop=False, inplace=True)"
   ]
  },
  {
   "cell_type": "code",
   "execution_count": 35,
   "metadata": {
    "collapsed": false,
    "scrolled": false
   },
   "outputs": [
    {
     "data": {
      "text/html": [
       "<div>\n",
       "<table border=\"1\" class=\"dataframe\">\n",
       "  <thead>\n",
       "    <tr style=\"text-align: right;\">\n",
       "      <th></th>\n",
       "      <th>level_0</th>\n",
       "      <th>index</th>\n",
       "      <th>tripduration</th>\n",
       "      <th>starttime</th>\n",
       "      <th>stoptime</th>\n",
       "      <th>start station id</th>\n",
       "      <th>start station name</th>\n",
       "      <th>start station latitude</th>\n",
       "      <th>start station longitude</th>\n",
       "      <th>end station id</th>\n",
       "      <th>...</th>\n",
       "      <th>gender</th>\n",
       "      <th>StDate</th>\n",
       "      <th>StTime</th>\n",
       "      <th>EndDt</th>\n",
       "      <th>EndTime</th>\n",
       "      <th>Mnth</th>\n",
       "      <th>Yr</th>\n",
       "      <th>DayInd</th>\n",
       "      <th>WkDay</th>\n",
       "      <th>WkDayInd</th>\n",
       "    </tr>\n",
       "  </thead>\n",
       "  <tbody>\n",
       "    <tr>\n",
       "      <th>0</th>\n",
       "      <td>0</td>\n",
       "      <td>0.0</td>\n",
       "      <td>923.0</td>\n",
       "      <td>1/1/2016 00:00:41</td>\n",
       "      <td>1/1/2016 00:16:04</td>\n",
       "      <td>268.0</td>\n",
       "      <td>Howard St &amp; Centre St</td>\n",
       "      <td>40.719105</td>\n",
       "      <td>-73.999733</td>\n",
       "      <td>3002.0</td>\n",
       "      <td>...</td>\n",
       "      <td>1.0</td>\n",
       "      <td>2016-01-01</td>\n",
       "      <td>00:00:41</td>\n",
       "      <td>2016-01-01</td>\n",
       "      <td>00:16:04</td>\n",
       "      <td>1</td>\n",
       "      <td>2016</td>\n",
       "      <td>0</td>\n",
       "      <td>4</td>\n",
       "      <td>1</td>\n",
       "    </tr>\n",
       "    <tr>\n",
       "      <th>1</th>\n",
       "      <td>1</td>\n",
       "      <td>1.0</td>\n",
       "      <td>379.0</td>\n",
       "      <td>1/1/2016 00:00:45</td>\n",
       "      <td>1/1/2016 00:07:04</td>\n",
       "      <td>476.0</td>\n",
       "      <td>E 31 St &amp; 3 Ave</td>\n",
       "      <td>40.743943</td>\n",
       "      <td>-73.979661</td>\n",
       "      <td>498.0</td>\n",
       "      <td>...</td>\n",
       "      <td>1.0</td>\n",
       "      <td>2016-01-01</td>\n",
       "      <td>00:00:45</td>\n",
       "      <td>2016-01-01</td>\n",
       "      <td>00:07:04</td>\n",
       "      <td>1</td>\n",
       "      <td>2016</td>\n",
       "      <td>0</td>\n",
       "      <td>4</td>\n",
       "      <td>1</td>\n",
       "    </tr>\n",
       "    <tr>\n",
       "      <th>2</th>\n",
       "      <td>2</td>\n",
       "      <td>2.0</td>\n",
       "      <td>589.0</td>\n",
       "      <td>1/1/2016 00:00:48</td>\n",
       "      <td>1/1/2016 00:10:37</td>\n",
       "      <td>489.0</td>\n",
       "      <td>10 Ave &amp; W 28 St</td>\n",
       "      <td>40.750664</td>\n",
       "      <td>-74.001768</td>\n",
       "      <td>284.0</td>\n",
       "      <td>...</td>\n",
       "      <td>2.0</td>\n",
       "      <td>2016-01-01</td>\n",
       "      <td>00:00:48</td>\n",
       "      <td>2016-01-01</td>\n",
       "      <td>00:10:37</td>\n",
       "      <td>1</td>\n",
       "      <td>2016</td>\n",
       "      <td>0</td>\n",
       "      <td>4</td>\n",
       "      <td>1</td>\n",
       "    </tr>\n",
       "    <tr>\n",
       "      <th>3</th>\n",
       "      <td>3</td>\n",
       "      <td>3.0</td>\n",
       "      <td>889.0</td>\n",
       "      <td>1/1/2016 00:01:06</td>\n",
       "      <td>1/1/2016 00:15:56</td>\n",
       "      <td>268.0</td>\n",
       "      <td>Howard St &amp; Centre St</td>\n",
       "      <td>40.719105</td>\n",
       "      <td>-73.999733</td>\n",
       "      <td>3002.0</td>\n",
       "      <td>...</td>\n",
       "      <td>2.0</td>\n",
       "      <td>2016-01-01</td>\n",
       "      <td>00:01:06</td>\n",
       "      <td>2016-01-01</td>\n",
       "      <td>00:15:56</td>\n",
       "      <td>1</td>\n",
       "      <td>2016</td>\n",
       "      <td>0</td>\n",
       "      <td>4</td>\n",
       "      <td>1</td>\n",
       "    </tr>\n",
       "    <tr>\n",
       "      <th>4</th>\n",
       "      <td>4</td>\n",
       "      <td>4.0</td>\n",
       "      <td>1480.0</td>\n",
       "      <td>1/1/2016 00:01:12</td>\n",
       "      <td>1/1/2016 00:25:52</td>\n",
       "      <td>2006.0</td>\n",
       "      <td>Central Park S &amp; 6 Ave</td>\n",
       "      <td>40.765909</td>\n",
       "      <td>-73.976342</td>\n",
       "      <td>2006.0</td>\n",
       "      <td>...</td>\n",
       "      <td>1.0</td>\n",
       "      <td>2016-01-01</td>\n",
       "      <td>00:01:12</td>\n",
       "      <td>2016-01-01</td>\n",
       "      <td>00:25:52</td>\n",
       "      <td>1</td>\n",
       "      <td>2016</td>\n",
       "      <td>0</td>\n",
       "      <td>4</td>\n",
       "      <td>1</td>\n",
       "    </tr>\n",
       "  </tbody>\n",
       "</table>\n",
       "<p>5 rows × 26 columns</p>\n",
       "</div>"
      ],
      "text/plain": [
       "   level_0  index  tripduration          starttime           stoptime  \\\n",
       "0        0    0.0         923.0  1/1/2016 00:00:41  1/1/2016 00:16:04   \n",
       "1        1    1.0         379.0  1/1/2016 00:00:45  1/1/2016 00:07:04   \n",
       "2        2    2.0         589.0  1/1/2016 00:00:48  1/1/2016 00:10:37   \n",
       "3        3    3.0         889.0  1/1/2016 00:01:06  1/1/2016 00:15:56   \n",
       "4        4    4.0        1480.0  1/1/2016 00:01:12  1/1/2016 00:25:52   \n",
       "\n",
       "   start station id      start station name  start station latitude  \\\n",
       "0             268.0   Howard St & Centre St               40.719105   \n",
       "1             476.0         E 31 St & 3 Ave               40.743943   \n",
       "2             489.0        10 Ave & W 28 St               40.750664   \n",
       "3             268.0   Howard St & Centre St               40.719105   \n",
       "4            2006.0  Central Park S & 6 Ave               40.765909   \n",
       "\n",
       "   start station longitude  end station id   ...    gender     StDate  \\\n",
       "0               -73.999733          3002.0   ...       1.0 2016-01-01   \n",
       "1               -73.979661           498.0   ...       1.0 2016-01-01   \n",
       "2               -74.001768           284.0   ...       2.0 2016-01-01   \n",
       "3               -73.999733          3002.0   ...       2.0 2016-01-01   \n",
       "4               -73.976342          2006.0   ...       1.0 2016-01-01   \n",
       "\n",
       "     StTime      EndDt   EndTime  Mnth    Yr DayInd WkDay WkDayInd  \n",
       "0  00:00:41 2016-01-01  00:16:04     1  2016      0     4        1  \n",
       "1  00:00:45 2016-01-01  00:07:04     1  2016      0     4        1  \n",
       "2  00:00:48 2016-01-01  00:10:37     1  2016      0     4        1  \n",
       "3  00:01:06 2016-01-01  00:15:56     1  2016      0     4        1  \n",
       "4  00:01:12 2016-01-01  00:25:52     1  2016      0     4        1  \n",
       "\n",
       "[5 rows x 26 columns]"
      ]
     },
     "execution_count": 35,
     "metadata": {},
     "output_type": "execute_result"
    }
   ],
   "source": [
    "df1.head()"
   ]
  },
  {
   "cell_type": "code",
   "execution_count": 33,
   "metadata": {
    "collapsed": true
   },
   "outputs": [],
   "source": [
    "# Drop column\n",
    "df1.drop('dayInd', axis=1, inplace=True)"
   ]
  },
  {
   "cell_type": "code",
   "execution_count": 36,
   "metadata": {
    "collapsed": true
   },
   "outputs": [],
   "source": [
    "df1.to_csv('201601-CBike-v2.csv', index=False)"
   ]
  },
  {
   "cell_type": "code",
   "execution_count": null,
   "metadata": {
    "collapsed": true
   },
   "outputs": [],
   "source": []
  },
  {
   "cell_type": "code",
   "execution_count": 28,
   "metadata": {
    "collapsed": false
   },
   "outputs": [
    {
     "data": {
      "text/html": [
       "<div>\n",
       "<table border=\"1\" class=\"dataframe\">\n",
       "  <thead>\n",
       "    <tr style=\"text-align: right;\">\n",
       "      <th></th>\n",
       "      <th>level_0</th>\n",
       "      <th>index</th>\n",
       "      <th>tripduration</th>\n",
       "      <th>starttime</th>\n",
       "      <th>stoptime</th>\n",
       "      <th>start station id</th>\n",
       "      <th>start station name</th>\n",
       "      <th>start station latitude</th>\n",
       "      <th>start station longitude</th>\n",
       "      <th>end station id</th>\n",
       "      <th>...</th>\n",
       "      <th>gender</th>\n",
       "      <th>StDate</th>\n",
       "      <th>StTime</th>\n",
       "      <th>EndDt</th>\n",
       "      <th>EndTime</th>\n",
       "      <th>Mnth</th>\n",
       "      <th>Yr</th>\n",
       "      <th>DayInd</th>\n",
       "      <th>WkDay</th>\n",
       "      <th>WkDayInd</th>\n",
       "    </tr>\n",
       "  </thead>\n",
       "  <tbody>\n",
       "    <tr>\n",
       "      <th>0</th>\n",
       "      <td>0</td>\n",
       "      <td>0.0</td>\n",
       "      <td>923.0</td>\n",
       "      <td>1/1/2016 00:00:41</td>\n",
       "      <td>1/1/2016 00:16:04</td>\n",
       "      <td>268.0</td>\n",
       "      <td>Howard St &amp; Centre St</td>\n",
       "      <td>40.719105</td>\n",
       "      <td>-73.999733</td>\n",
       "      <td>3002.0</td>\n",
       "      <td>...</td>\n",
       "      <td>1.0</td>\n",
       "      <td>2016-01-01</td>\n",
       "      <td>00:00:41</td>\n",
       "      <td>2016-01-01</td>\n",
       "      <td>00:16:04</td>\n",
       "      <td>1</td>\n",
       "      <td>2016</td>\n",
       "      <td>0</td>\n",
       "      <td>4</td>\n",
       "      <td>1</td>\n",
       "    </tr>\n",
       "    <tr>\n",
       "      <th>1</th>\n",
       "      <td>1</td>\n",
       "      <td>1.0</td>\n",
       "      <td>379.0</td>\n",
       "      <td>1/1/2016 00:00:45</td>\n",
       "      <td>1/1/2016 00:07:04</td>\n",
       "      <td>476.0</td>\n",
       "      <td>E 31 St &amp; 3 Ave</td>\n",
       "      <td>40.743943</td>\n",
       "      <td>-73.979661</td>\n",
       "      <td>498.0</td>\n",
       "      <td>...</td>\n",
       "      <td>1.0</td>\n",
       "      <td>2016-01-01</td>\n",
       "      <td>00:00:45</td>\n",
       "      <td>2016-01-01</td>\n",
       "      <td>00:07:04</td>\n",
       "      <td>1</td>\n",
       "      <td>2016</td>\n",
       "      <td>0</td>\n",
       "      <td>4</td>\n",
       "      <td>1</td>\n",
       "    </tr>\n",
       "    <tr>\n",
       "      <th>2</th>\n",
       "      <td>2</td>\n",
       "      <td>2.0</td>\n",
       "      <td>589.0</td>\n",
       "      <td>1/1/2016 00:00:48</td>\n",
       "      <td>1/1/2016 00:10:37</td>\n",
       "      <td>489.0</td>\n",
       "      <td>10 Ave &amp; W 28 St</td>\n",
       "      <td>40.750664</td>\n",
       "      <td>-74.001768</td>\n",
       "      <td>284.0</td>\n",
       "      <td>...</td>\n",
       "      <td>2.0</td>\n",
       "      <td>2016-01-01</td>\n",
       "      <td>00:00:48</td>\n",
       "      <td>2016-01-01</td>\n",
       "      <td>00:10:37</td>\n",
       "      <td>1</td>\n",
       "      <td>2016</td>\n",
       "      <td>0</td>\n",
       "      <td>4</td>\n",
       "      <td>1</td>\n",
       "    </tr>\n",
       "  </tbody>\n",
       "</table>\n",
       "<p>3 rows × 26 columns</p>\n",
       "</div>"
      ],
      "text/plain": [
       "   level_0  index  tripduration          starttime           stoptime  \\\n",
       "0        0    0.0         923.0  1/1/2016 00:00:41  1/1/2016 00:16:04   \n",
       "1        1    1.0         379.0  1/1/2016 00:00:45  1/1/2016 00:07:04   \n",
       "2        2    2.0         589.0  1/1/2016 00:00:48  1/1/2016 00:10:37   \n",
       "\n",
       "   start station id     start station name  start station latitude  \\\n",
       "0             268.0  Howard St & Centre St               40.719105   \n",
       "1             476.0        E 31 St & 3 Ave               40.743943   \n",
       "2             489.0       10 Ave & W 28 St               40.750664   \n",
       "\n",
       "   start station longitude  end station id   ...    gender      StDate  \\\n",
       "0               -73.999733          3002.0   ...       1.0  2016-01-01   \n",
       "1               -73.979661           498.0   ...       1.0  2016-01-01   \n",
       "2               -74.001768           284.0   ...       2.0  2016-01-01   \n",
       "\n",
       "     StTime       EndDt   EndTime  Mnth    Yr DayInd WkDay WkDayInd  \n",
       "0  00:00:41  2016-01-01  00:16:04     1  2016      0     4        1  \n",
       "1  00:00:45  2016-01-01  00:07:04     1  2016      0     4        1  \n",
       "2  00:00:48  2016-01-01  00:10:37     1  2016      0     4        1  \n",
       "\n",
       "[3 rows x 26 columns]"
      ]
     },
     "execution_count": 28,
     "metadata": {},
     "output_type": "execute_result"
    },
    {
     "name": "stdout",
     "output_type": "stream",
     "text": [
      "ERROR! Session/line number was not unique in database. History logging moved to new session 201\n"
     ]
    }
   ],
   "source": [
    "df1[:3][:]"
   ]
  },
  {
   "cell_type": "code",
   "execution_count": 29,
   "metadata": {
    "collapsed": false
   },
   "outputs": [
    {
     "data": {
      "text/html": [
       "<div>\n",
       "<table border=\"1\" class=\"dataframe\">\n",
       "  <thead>\n",
       "    <tr style=\"text-align: right;\">\n",
       "      <th></th>\n",
       "      <th>level_0</th>\n",
       "      <th>index</th>\n",
       "      <th>tripduration</th>\n",
       "      <th>starttime</th>\n",
       "      <th>stoptime</th>\n",
       "      <th>start station id</th>\n",
       "      <th>start station name</th>\n",
       "      <th>start station latitude</th>\n",
       "      <th>start station longitude</th>\n",
       "      <th>end station id</th>\n",
       "      <th>...</th>\n",
       "      <th>gender</th>\n",
       "      <th>StDate</th>\n",
       "      <th>StTime</th>\n",
       "      <th>EndDt</th>\n",
       "      <th>EndTime</th>\n",
       "      <th>Mnth</th>\n",
       "      <th>Yr</th>\n",
       "      <th>DayInd</th>\n",
       "      <th>WkDay</th>\n",
       "      <th>WkDayInd</th>\n",
       "    </tr>\n",
       "  </thead>\n",
       "  <tbody>\n",
       "    <tr>\n",
       "      <th>1073</th>\n",
       "      <td>1073</td>\n",
       "      <td>1073.0</td>\n",
       "      <td>238.0</td>\n",
       "      <td>1/1/2016 05:00:26</td>\n",
       "      <td>1/1/2016 05:04:25</td>\n",
       "      <td>161.0</td>\n",
       "      <td>LaGuardia Pl &amp; W 3 St</td>\n",
       "      <td>40.729170</td>\n",
       "      <td>-73.998102</td>\n",
       "      <td>428.0</td>\n",
       "      <td>...</td>\n",
       "      <td>1.0</td>\n",
       "      <td>2016-01-01</td>\n",
       "      <td>05:00:26</td>\n",
       "      <td>2016-01-01</td>\n",
       "      <td>05:04:25</td>\n",
       "      <td>1</td>\n",
       "      <td>2016</td>\n",
       "      <td>1</td>\n",
       "      <td>4</td>\n",
       "      <td>1</td>\n",
       "    </tr>\n",
       "    <tr>\n",
       "      <th>1074</th>\n",
       "      <td>1074</td>\n",
       "      <td>1074.0</td>\n",
       "      <td>401.0</td>\n",
       "      <td>1/1/2016 05:01:11</td>\n",
       "      <td>1/1/2016 05:07:53</td>\n",
       "      <td>317.0</td>\n",
       "      <td>E 6 St &amp; Avenue B</td>\n",
       "      <td>40.724537</td>\n",
       "      <td>-73.981854</td>\n",
       "      <td>531.0</td>\n",
       "      <td>...</td>\n",
       "      <td>1.0</td>\n",
       "      <td>2016-01-01</td>\n",
       "      <td>05:01:11</td>\n",
       "      <td>2016-01-01</td>\n",
       "      <td>05:07:53</td>\n",
       "      <td>1</td>\n",
       "      <td>2016</td>\n",
       "      <td>1</td>\n",
       "      <td>4</td>\n",
       "      <td>1</td>\n",
       "    </tr>\n",
       "    <tr>\n",
       "      <th>1075</th>\n",
       "      <td>1075</td>\n",
       "      <td>1075.0</td>\n",
       "      <td>1071.0</td>\n",
       "      <td>1/1/2016 05:01:34</td>\n",
       "      <td>1/1/2016 05:19:25</td>\n",
       "      <td>116.0</td>\n",
       "      <td>W 17 St &amp; 8 Ave</td>\n",
       "      <td>40.741776</td>\n",
       "      <td>-74.001497</td>\n",
       "      <td>403.0</td>\n",
       "      <td>...</td>\n",
       "      <td>2.0</td>\n",
       "      <td>2016-01-01</td>\n",
       "      <td>05:01:34</td>\n",
       "      <td>2016-01-01</td>\n",
       "      <td>05:19:25</td>\n",
       "      <td>1</td>\n",
       "      <td>2016</td>\n",
       "      <td>1</td>\n",
       "      <td>4</td>\n",
       "      <td>1</td>\n",
       "    </tr>\n",
       "  </tbody>\n",
       "</table>\n",
       "<p>3 rows × 26 columns</p>\n",
       "</div>"
      ],
      "text/plain": [
       "      level_0   index  tripduration          starttime           stoptime  \\\n",
       "1073     1073  1073.0         238.0  1/1/2016 05:00:26  1/1/2016 05:04:25   \n",
       "1074     1074  1074.0         401.0  1/1/2016 05:01:11  1/1/2016 05:07:53   \n",
       "1075     1075  1075.0        1071.0  1/1/2016 05:01:34  1/1/2016 05:19:25   \n",
       "\n",
       "      start station id     start station name  start station latitude  \\\n",
       "1073             161.0  LaGuardia Pl & W 3 St               40.729170   \n",
       "1074             317.0      E 6 St & Avenue B               40.724537   \n",
       "1075             116.0        W 17 St & 8 Ave               40.741776   \n",
       "\n",
       "      start station longitude  end station id   ...    gender      StDate  \\\n",
       "1073               -73.998102           428.0   ...       1.0  2016-01-01   \n",
       "1074               -73.981854           531.0   ...       1.0  2016-01-01   \n",
       "1075               -74.001497           403.0   ...       2.0  2016-01-01   \n",
       "\n",
       "        StTime       EndDt   EndTime  Mnth    Yr DayInd WkDay WkDayInd  \n",
       "1073  05:00:26  2016-01-01  05:04:25     1  2016      1     4        1  \n",
       "1074  05:01:11  2016-01-01  05:07:53     1  2016      1     4        1  \n",
       "1075  05:01:34  2016-01-01  05:19:25     1  2016      1     4        1  \n",
       "\n",
       "[3 rows x 26 columns]"
      ]
     },
     "execution_count": 29,
     "metadata": {},
     "output_type": "execute_result"
    }
   ],
   "source": [
    "df1[df1['DayInd']>0].head(3)"
   ]
  },
  {
   "cell_type": "code",
   "execution_count": 23,
   "metadata": {
    "collapsed": true
   },
   "outputs": [],
   "source": [
    "pl.rcParams['figure.figsize'] = (10, 10)"
   ]
  },
  {
   "cell_type": "code",
   "execution_count": 32,
   "metadata": {
    "collapsed": false
   },
   "outputs": [],
   "source": [
    "df2 = df1[0:1000].copy()"
   ]
  },
  {
   "cell_type": "raw",
   "metadata": {},
   "source": [
    "for i in range(df1.shape[0]):\n",
    "    pl.plot(df1[i][['WkDay']], df1[i][['tripduration']])"
   ]
  },
  {
   "cell_type": "raw",
   "metadata": {},
   "source": [
    "ax = df2[['WkDay','tripduration']].plot(kind='bar', title =\"WkDay vs Tripduration\", \n",
    "                                        figsize=(15, 10), legend=True, fontsize=12)\n",
    "ax.set_xlabel(\"Week Day\", fontsize=12)\n",
    "ax.set_ylabel(\"Trip Duration\", fontsize=12)\n",
    "plt.show()"
   ]
  },
  {
   "cell_type": "raw",
   "metadata": {},
   "source": [
    "fig = pl.figure(figsize = (13,13))\n",
    "ax1 = fig.add_subplot(122)"
   ]
  },
  {
   "cell_type": "code",
   "execution_count": 41,
   "metadata": {
    "collapsed": true
   },
   "outputs": [],
   "source": [
    "\n",
    "for i in range(df2.shape[0]):\n",
    "    ax1.hist(df2.WkDay[i], bins=np.arange(0,7,1), alpha=0.5)\n",
    "    "
   ]
  },
  {
   "cell_type": "code",
   "execution_count": 45,
   "metadata": {
    "collapsed": false
   },
   "outputs": [],
   "source": [
    "plt.show()"
   ]
  },
  {
   "cell_type": "code",
   "execution_count": 35,
   "metadata": {
    "collapsed": false
   },
   "outputs": [
    {
     "data": {
      "text/plain": [
       "array([-10. ,  -9.5,  -9. ,  -8.5,  -8. ,  -7.5,  -7. ,  -6.5,  -6. ,\n",
       "        -5.5,  -5. ,  -4.5,  -4. ,  -3.5,  -3. ,  -2.5,  -2. ,  -1.5,\n",
       "        -1. ,  -0.5,   0. ,   0.5,   1. ,   1.5,   2. ,   2.5,   3. ,\n",
       "         3.5,   4. ,   4.5,   5. ,   5.5,   6. ,   6.5,   7. ,   7.5,\n",
       "         8. ,   8.5,   9. ,   9.5,  10. ,  10.5,  11. ,  11.5,  12. ,\n",
       "        12.5,  13. ,  13.5,  14. ,  14.5,  15. ,  15.5,  16. ,  16.5,\n",
       "        17. ,  17.5,  18. ,  18.5,  19. ,  19.5,  20. ,  20.5,  21. ,\n",
       "        21.5,  22. ,  22.5,  23. ,  23.5,  24. ,  24.5,  25. ,  25.5,\n",
       "        26. ,  26.5,  27. ,  27.5,  28. ,  28.5,  29. ,  29.5])"
      ]
     },
     "execution_count": 35,
     "metadata": {},
     "output_type": "execute_result"
    }
   ],
   "source": [
    "np.arange(-10,30,0.5)"
   ]
  },
  {
   "cell_type": "code",
   "execution_count": null,
   "metadata": {
    "collapsed": true
   },
   "outputs": [],
   "source": []
  }
 ],
 "metadata": {
  "anaconda-cloud": {},
  "kernelspec": {
   "display_name": "Python [Root]",
   "language": "python",
   "name": "Python [Root]"
  },
  "language_info": {
   "codemirror_mode": {
    "name": "ipython",
    "version": 2
   },
   "file_extension": ".py",
   "mimetype": "text/x-python",
   "name": "python",
   "nbconvert_exporter": "python",
   "pygments_lexer": "ipython2",
   "version": "2.7.12"
  }
 },
 "nbformat": 4,
 "nbformat_minor": 0
}
